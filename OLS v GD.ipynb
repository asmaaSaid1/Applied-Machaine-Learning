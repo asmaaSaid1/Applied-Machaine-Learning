{
 "cells": [
  {
   "cell_type": "code",
   "execution_count": 48,
   "id": "45bb5adc",
   "metadata": {},
   "outputs": [],
   "source": [
    "import numpy as np\n",
    "from sklearn.pipeline import Pipeline\n",
    "from sklearn.linear_model import LinearRegression\n",
    "import seaborn as sns\n"
   ]
  },
  {
   "cell_type": "code",
   "execution_count": 127,
   "id": "7eabdd98",
   "metadata": {},
   "outputs": [],
   "source": [
    "#OLS\n",
    "x=[2,3,5,7,9]\n",
    "y=[4,5,7,10,15]"
   ]
  },
  {
   "cell_type": "code",
   "execution_count": 128,
   "id": "5a436a2c",
   "metadata": {},
   "outputs": [],
   "source": [
    "x=np.array(x).reshape(-1, 1)\n",
    "y=np.array(y).reshape(-1, 1)"
   ]
  },
  {
   "cell_type": "code",
   "execution_count": 129,
   "id": "cd353195",
   "metadata": {},
   "outputs": [],
   "source": [
    "model=LinearRegression()"
   ]
  },
  {
   "cell_type": "code",
   "execution_count": 135,
   "id": "c861dea6",
   "metadata": {},
   "outputs": [
    {
     "name": "stdout",
     "output_type": "stream",
     "text": [
      "[0.30487805] [[1.51829268]]\n"
     ]
    }
   ],
   "source": [
    "model=model.fit(x,y)\n",
    "print(model.intercept_,model.coef_)"
   ]
  },
  {
   "cell_type": "code",
   "execution_count": 131,
   "id": "010cd447",
   "metadata": {},
   "outputs": [],
   "source": [
    "#GD\n",
    "from sklearn.linear_model import SGDRegressor"
   ]
  },
  {
   "cell_type": "code",
   "execution_count": 163,
   "id": "ffc86c45",
   "metadata": {},
   "outputs": [],
   "source": [
    "GD_model=SGDRegressor(max_iter=2000,eta0=0.001)\n"
   ]
  },
  {
   "cell_type": "code",
   "execution_count": 164,
   "id": "fd5ac056",
   "metadata": {},
   "outputs": [
    {
     "name": "stdout",
     "output_type": "stream",
     "text": [
      "[0.23478278] [1.50756605]\n"
     ]
    }
   ],
   "source": [
    "GD_model.fit(x,y.squeeze())\n",
    "print(GD_model.intercept_,GD_model.coef_)"
   ]
  },
  {
   "cell_type": "code",
   "execution_count": null,
   "id": "330dd8d7",
   "metadata": {},
   "outputs": [],
   "source": []
  },
  {
   "cell_type": "code",
   "execution_count": null,
   "id": "11063c13",
   "metadata": {},
   "outputs": [],
   "source": []
  }
 ],
 "metadata": {
  "kernelspec": {
   "display_name": "Python 3 (ipykernel)",
   "language": "python",
   "name": "python3"
  },
  "language_info": {
   "codemirror_mode": {
    "name": "ipython",
    "version": 3
   },
   "file_extension": ".py",
   "mimetype": "text/x-python",
   "name": "python",
   "nbconvert_exporter": "python",
   "pygments_lexer": "ipython3",
   "version": "3.10.9"
  }
 },
 "nbformat": 4,
 "nbformat_minor": 5
}
